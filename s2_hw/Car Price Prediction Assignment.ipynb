{
 "cells": [
  {
   "cell_type": "markdown",
   "metadata": {},
   "source": [
    "# Car Price Prediction::"
   ]
  },
  {
   "cell_type": "markdown",
   "metadata": {},
   "source": [
    "Download dataset from this link:\n",
    "\n",
    "https://www.kaggle.com/hellbuoy/car-price-prediction"
   ]
  },
  {
   "cell_type": "markdown",
   "metadata": {},
   "source": [
    "# Problem Statement::"
   ]
  },
  {
   "cell_type": "markdown",
   "metadata": {},
   "source": [
    "A Chinese automobile company Geely Auto aspires to enter the US market by setting up their manufacturing unit there and producing cars locally to give competition to their US and European counterparts.\n",
    "\n",
    "They have contracted an automobile consulting company to understand the factors on which the pricing of cars depends. Specifically, they want to understand the factors affecting the pricing of cars in the American market, since those may be very different from the Chinese market. The company wants to know:\n",
    "\n",
    "Which variables are significant in predicting the price of a car\n",
    "How well those variables describe the price of a car\n",
    "Based on various market surveys, the consulting firm has gathered a large data set of different types of cars across the America market.\n",
    "\n",
    "# task::\n",
    "We are required to model the price of cars with the available independent variables. It will be used by the management to understand how exactly the prices vary with the independent variables. They can accordingly manipulate the design of the cars, the business strategy etc. to meet certain price levels. Further, the model will be a good way for management to understand the pricing dynamics of a new market."
   ]
  },
  {
   "cell_type": "markdown",
   "metadata": {},
   "source": [
    "# WORKFLOW ::"
   ]
  },
  {
   "cell_type": "markdown",
   "metadata": {},
   "source": [
    "1.Load Data\n",
    "\n",
    "2.Check Missing Values ( If Exist ; Fill each record with mean of its feature )\n",
    "\n",
    "3.Split into 50% Training(Samples,Labels) , 30% Test(Samples,Labels) and 20% Validation Data(Samples,Labels).\n",
    "\n",
    "4.Model : input Layer (No. of features ), 3 hidden layers including 10,8,6 unit & Output Layer with activation function relu/tanh (check by experiment).\n",
    "\n",
    "5.Compilation Step (Note : Its a Regression problem , select loss , metrics according to it)\n",
    "6.Train the Model with Epochs (100) and validate it\n",
    "\n",
    "7.If the model gets overfit tune your model by changing the units , No. of layers , activation function , epochs , add dropout layer or add Regularizer according to the need .\n",
    "\n",
    "8.Evaluation Step\n",
    "\n",
    "9.Prediction"
   ]
  },
  {
   "cell_type": "code",
   "execution_count": 1,
   "metadata": {},
   "outputs": [],
   "source": [
    "import pandas as pd\n",
    "import numpy as np\n",
    "import tensorflow as tf\n",
    "from tensorflow.keras import layers\n",
    "from tensorflow.keras.layers.experimental import preprocessing\n",
    "from sklearn.linear_model import LinearRegression\n",
    "from tensorflow.keras.models import Sequential\n",
    "table=pd.read_csv(\"CarPrice_Assignment.csv\")\n",
    "pd.set_option('display.max_columns', None)\n",
    "pd.set_option('display.max_row', None)\n",
    "X=table.loc[:,(table.columns[1] and table.columns[3:24])]\n",
    "Y=table[\"price\"]"
   ]
  },
  {
   "cell_type": "code",
   "execution_count": 2,
   "metadata": {},
   "outputs": [],
   "source": [
    "data=table.fillna(table.mean())"
   ]
  },
  {
   "cell_type": "code",
   "execution_count": 3,
   "metadata": {},
   "outputs": [],
   "source": [
    "from sklearn.preprocessing import LabelEncoder\n",
    "labelencoder=LabelEncoder()\n",
    "data['fueltype']=labelencoder.fit_transform(data['fueltype'])\n",
    "data['aspiration']=labelencoder.fit_transform(data['aspiration'])\n",
    "data['carbody']=labelencoder.fit_transform(data['carbody'])\n",
    "data['drivewheel']=labelencoder.fit_transform(data['drivewheel'])\n",
    "data['enginelocation']=labelencoder.fit_transform(data['enginelocation'])\n",
    "data['fuelsystem']=labelencoder.fit_transform(data['enginelocation'])\n",
    "data1=data[['horsepower','boreratio','enginesize','curbweight','carwidth','carlength',\n",
    "              'wheelbase','drivewheel','price','enginelocation']]\n",
    "x=(data1.loc[:,data1.columns!='price'])\n",
    "y=(data1.loc[:,data1.columns=='price'])\n",
    "from sklearn.model_selection import train_test_split\n",
    "x_train,x_test,y_train,y_test=train_test_split(x,y,test_size=0.30,random_state=42)\n",
    "x_train,x_test,y_train,y_test=np.asarray(x_train),np.asarray(x_test),np.asarray(y_train),np.asarray(y_test)"
   ]
  },
  {
   "cell_type": "code",
   "execution_count": 4,
   "metadata": {},
   "outputs": [],
   "source": [
    "model = Sequential()\n",
    "model.add(tf.keras.layers.Dense(64, activation='relu'))\n",
    "model.add(tf.keras.layers.Dense(1,))"
   ]
  },
  {
   "cell_type": "code",
   "execution_count": 5,
   "metadata": {},
   "outputs": [
    {
     "name": "stdout",
     "output_type": "stream",
     "text": [
      "Epoch 1/100\n",
      "5/5 [==============================] - 1s 2ms/step - loss: 236597786.6667 - mae: 13619.9284\n",
      "Epoch 2/100\n",
      "5/5 [==============================] - 0s 3ms/step - loss: 247307576.0000 - mae: 13764.0566\n",
      "Epoch 3/100\n",
      "5/5 [==============================] - 0s 3ms/step - loss: 238281890.6667 - mae: 13387.8901\n",
      "Epoch 4/100\n",
      "5/5 [==============================] - 0s 3ms/step - loss: 251659237.3333 - mae: 13594.6735\n",
      "Epoch 5/100\n",
      "5/5 [==============================] - 0s 3ms/step - loss: 264644130.6667 - mae: 13964.5890\n",
      "Epoch 6/100\n",
      "5/5 [==============================] - 0s 4ms/step - loss: 246805034.6667 - mae: 13517.3986\n",
      "Epoch 7/100\n",
      "5/5 [==============================] - 0s 5ms/step - loss: 215571216.0000 - mae: 12695.3550\n",
      "Epoch 8/100\n",
      "5/5 [==============================] - 0s 1ms/step - loss: 225128344.0000 - mae: 12789.5806\n",
      "Epoch 9/100\n",
      "5/5 [==============================] - 0s 3ms/step - loss: 213945389.3333 - mae: 12637.1167\n",
      "Epoch 10/100\n",
      "5/5 [==============================] - 0s 5ms/step - loss: 194416013.3333 - mae: 12041.3439\n",
      "Epoch 11/100\n",
      "5/5 [==============================] - 0s 2ms/step - loss: 223413525.3333 - mae: 12701.1387\n",
      "Epoch 12/100\n",
      "5/5 [==============================] - 0s 3ms/step - loss: 207287568.0000 - mae: 12179.7712\n",
      "Epoch 13/100\n",
      "5/5 [==============================] - ETA: 0s - loss: 116232800.0000 - mae: 9489.82 - 0s 4ms/step - loss: 174368570.6667 - mae: 11341.7834\n",
      "Epoch 14/100\n",
      "5/5 [==============================] - 0s 3ms/step - loss: 199479512.0000 - mae: 12008.7772\n",
      "Epoch 15/100\n",
      "5/5 [==============================] - 0s 7ms/step - loss: 201259354.6667 - mae: 11838.0604\n",
      "Epoch 16/100\n",
      "5/5 [==============================] - 0s 4ms/step - loss: 217054720.0000 - mae: 12341.2412\n",
      "Epoch 17/100\n",
      "5/5 [==============================] - 0s 4ms/step - loss: 181539130.6667 - mae: 11331.9536\n",
      "Epoch 18/100\n",
      "5/5 [==============================] - 0s 3ms/step - loss: 168206013.3333 - mae: 10983.4697\n",
      "Epoch 19/100\n",
      "5/5 [==============================] - 0s 3ms/step - loss: 180386797.3333 - mae: 11185.7632\n",
      "Epoch 20/100\n",
      "5/5 [==============================] - 0s 3ms/step - loss: 183440226.6667 - mae: 11234.8763\n",
      "Epoch 21/100\n",
      "5/5 [==============================] - 0s 3ms/step - loss: 187896165.3333 - mae: 11351.7214\n",
      "Epoch 22/100\n",
      "5/5 [==============================] - 0s 3ms/step - loss: 151988581.3333 - mae: 10273.4985\n",
      "Epoch 23/100\n",
      "5/5 [==============================] - 0s 4ms/step - loss: 160102400.0000 - mae: 10631.0946\n",
      "Epoch 24/100\n",
      "5/5 [==============================] - 0s 2ms/step - loss: 157527341.3333 - mae: 10227.1286\n",
      "Epoch 25/100\n",
      "5/5 [==============================] - 0s 4ms/step - loss: 130443148.0000 - mae: 9338.6922\n",
      "Epoch 26/100\n",
      "5/5 [==============================] - 0s 3ms/step - loss: 146310013.3333 - mae: 9786.2752\n",
      "Epoch 27/100\n",
      "5/5 [==============================] - 0s 3ms/step - loss: 137519793.3333 - mae: 9454.5990\n",
      "Epoch 28/100\n",
      "5/5 [==============================] - 0s 2ms/step - loss: 153372869.3333 - mae: 9876.4089\n",
      "Epoch 29/100\n",
      "5/5 [==============================] - 0s 2ms/step - loss: 141358669.3333 - mae: 9569.2363\n",
      "Epoch 30/100\n",
      "5/5 [==============================] - 0s 3ms/step - loss: 139129382.6667 - mae: 9557.1136\n",
      "Epoch 31/100\n",
      "5/5 [==============================] - 0s 4ms/step - loss: 118387405.3333 - mae: 8655.6821\n",
      "Epoch 32/100\n",
      "5/5 [==============================] - 0s 3ms/step - loss: 136567134.6667 - mae: 9065.0488\n",
      "Epoch 33/100\n",
      "5/5 [==============================] - 0s 3ms/step - loss: 139795296.0000 - mae: 9313.3704\n",
      "Epoch 34/100\n",
      "5/5 [==============================] - 0s 5ms/step - loss: 140430872.0000 - mae: 9102.9971\n",
      "Epoch 35/100\n",
      "5/5 [==============================] - 0s 2ms/step - loss: 131266229.3333 - mae: 9096.0363\n",
      "Epoch 36/100\n",
      "5/5 [==============================] - 0s 3ms/step - loss: 124387185.3333 - mae: 8585.6960\n",
      "Epoch 37/100\n",
      "5/5 [==============================] - 0s 3ms/step - loss: 120587512.0000 - mae: 8524.6616\n",
      "Epoch 38/100\n",
      "5/5 [==============================] - 0s 3ms/step - loss: 114097697.3333 - mae: 8130.6608\n",
      "Epoch 39/100\n",
      "5/5 [==============================] - 0s 4ms/step - loss: 116576040.0000 - mae: 8275.5183\n",
      "Epoch 40/100\n",
      "5/5 [==============================] - 0s 4ms/step - loss: 103214577.3333 - mae: 7688.1541\n",
      "Epoch 41/100\n",
      "5/5 [==============================] - 0s 3ms/step - loss: 104822126.6667 - mae: 7660.8058\n",
      "Epoch 42/100\n",
      "5/5 [==============================] - 0s 3ms/step - loss: 89859816.0000 - mae: 7246.0671\n",
      "Epoch 43/100\n",
      "5/5 [==============================] - 0s 4ms/step - loss: 97885024.0000 - mae: 7241.3816\n",
      "Epoch 44/100\n",
      "5/5 [==============================] - 0s 4ms/step - loss: 104649625.3333 - mae: 7261.1250\n",
      "Epoch 45/100\n",
      "5/5 [==============================] - 0s 4ms/step - loss: 86896316.0000 - mae: 6706.6041\n",
      "Epoch 46/100\n",
      "5/5 [==============================] - 0s 4ms/step - loss: 100272021.3333 - mae: 7043.8495\n",
      "Epoch 47/100\n",
      "5/5 [==============================] - 0s 4ms/step - loss: 86886212.0000 - mae: 6527.5061\n",
      "Epoch 48/100\n",
      "5/5 [==============================] - 0s 2ms/step - loss: 74482333.3333 - mae: 5902.6931\n",
      "Epoch 49/100\n",
      "5/5 [==============================] - 0s 2ms/step - loss: 76713793.3333 - mae: 6239.7070\n",
      "Epoch 50/100\n",
      "5/5 [==============================] - 0s 4ms/step - loss: 75088649.3333 - mae: 5870.7563\n",
      "Epoch 51/100\n",
      "5/5 [==============================] - 0s 3ms/step - loss: 71200859.3333 - mae: 5711.0531\n",
      "Epoch 52/100\n",
      "5/5 [==============================] - 0s 3ms/step - loss: 80015032.0000 - mae: 6203.6238\n",
      "Epoch 53/100\n",
      "5/5 [==============================] - 0s 4ms/step - loss: 64881926.0000 - mae: 5171.9028\n",
      "Epoch 54/100\n",
      "5/5 [==============================] - 0s 2ms/step - loss: 71143752.0000 - mae: 5509.9456\n",
      "Epoch 55/100\n",
      "5/5 [==============================] - 0s 2ms/step - loss: 60568400.0000 - mae: 4755.7112\n",
      "Epoch 56/100\n",
      "5/5 [==============================] - 0s 4ms/step - loss: 61446982.6667 - mae: 4697.6031\n",
      "Epoch 57/100\n",
      "5/5 [==============================] - 0s 2ms/step - loss: 62604558.0000 - mae: 4839.9251\n",
      "Epoch 58/100\n",
      "5/5 [==============================] - 0s 2ms/step - loss: 63362282.6667 - mae: 4952.4900\n",
      "Epoch 59/100\n",
      "5/5 [==============================] - 0s 2ms/step - loss: 51744804.6667 - mae: 4228.7018\n",
      "Epoch 60/100\n",
      "5/5 [==============================] - 0s 1ms/step - loss: 68978430.0000 - mae: 4986.2950\n",
      "Epoch 61/100\n",
      "5/5 [==============================] - 0s 3ms/step - loss: 58337546.6667 - mae: 4548.2817\n",
      "Epoch 62/100\n",
      "5/5 [==============================] - 0s 2ms/step - loss: 46948105.0000 - mae: 4169.0370\n",
      "Epoch 63/100\n",
      "5/5 [==============================] - 0s 4ms/step - loss: 53481848.0000 - mae: 4118.2950\n",
      "Epoch 64/100\n",
      "5/5 [==============================] - 0s 2ms/step - loss: 47108067.3333 - mae: 4186.9516\n",
      "Epoch 65/100\n",
      "5/5 [==============================] - 0s 1ms/step - loss: 41610205.0000 - mae: 3853.7681\n",
      "Epoch 66/100\n",
      "5/5 [==============================] - 0s 3ms/step - loss: 46076878.6667 - mae: 4054.4252\n",
      "Epoch 67/100\n",
      "5/5 [==============================] - 0s 2ms/step - loss: 49172650.0000 - mae: 4422.8040\n",
      "Epoch 68/100\n",
      "5/5 [==============================] - 0s 2ms/step - loss: 30560247.5000 - mae: 3464.3793\n",
      "Epoch 69/100\n",
      "5/5 [==============================] - 0s 2ms/step - loss: 40769268.6667 - mae: 3990.2818\n",
      "Epoch 70/100\n",
      "5/5 [==============================] - 0s 3ms/step - loss: 47447389.3333 - mae: 4146.7080\n",
      "Epoch 71/100\n",
      "5/5 [==============================] - 0s 3ms/step - loss: 37166044.0000 - mae: 3898.3306\n",
      "Epoch 72/100\n",
      "5/5 [==============================] - 0s 2ms/step - loss: 31588234.1667 - mae: 3771.1258\n",
      "Epoch 73/100\n",
      "5/5 [==============================] - 0s 2ms/step - loss: 43233117.3333 - mae: 4327.8632\n",
      "Epoch 74/100\n",
      "5/5 [==============================] - 0s 2ms/step - loss: 38557286.0000 - mae: 4197.1563\n",
      "Epoch 75/100\n",
      "5/5 [==============================] - 0s 3ms/step - loss: 32609147.6667 - mae: 3939.6950\n",
      "Epoch 76/100\n",
      "5/5 [==============================] - 0s 3ms/step - loss: 29110174.0000 - mae: 3751.0852\n",
      "Epoch 77/100\n",
      "5/5 [==============================] - 0s 3ms/step - loss: 27196593.5000 - mae: 3714.0380\n",
      "Epoch 78/100\n",
      "5/5 [==============================] - 0s 2ms/step - loss: 33229875.3333 - mae: 4065.8420\n",
      "Epoch 79/100\n"
     ]
    },
    {
     "name": "stdout",
     "output_type": "stream",
     "text": [
      "5/5 [==============================] - 0s 4ms/step - loss: 29104159.0000 - mae: 3937.4004\n",
      "Epoch 80/100\n",
      "5/5 [==============================] - 0s 2ms/step - loss: 33939806.3333 - mae: 4122.1111\n",
      "Epoch 81/100\n",
      "5/5 [==============================] - 0s 3ms/step - loss: 29538085.6667 - mae: 4068.5525\n",
      "Epoch 82/100\n",
      "5/5 [==============================] - 0s 2ms/step - loss: 29369771.0000 - mae: 3932.2052\n",
      "Epoch 83/100\n",
      "5/5 [==============================] - 0s 3ms/step - loss: 30072333.0000 - mae: 4058.2052\n",
      "Epoch 84/100\n",
      "5/5 [==============================] - 0s 2ms/step - loss: 30859578.6667 - mae: 4040.6878\n",
      "Epoch 85/100\n",
      "5/5 [==============================] - 0s 1ms/step - loss: 33313980.0000 - mae: 4274.6908\n",
      "Epoch 86/100\n",
      "5/5 [==============================] - 0s 3ms/step - loss: 36520049.3333 - mae: 4346.4835\n",
      "Epoch 87/100\n",
      "5/5 [==============================] - 0s 3ms/step - loss: 34048913.3333 - mae: 4305.3849\n",
      "Epoch 88/100\n",
      "5/5 [==============================] - 0s 4ms/step - loss: 33187123.3333 - mae: 4214.4621\n",
      "Epoch 89/100\n",
      "5/5 [==============================] - 0s 2ms/step - loss: 30104901.0000 - mae: 4238.7480\n",
      "Epoch 90/100\n",
      "5/5 [==============================] - 0s 2ms/step - loss: 30010795.0000 - mae: 4127.2781\n",
      "Epoch 91/100\n",
      "5/5 [==============================] - 0s 2ms/step - loss: 35789241.3333 - mae: 4444.0159\n",
      "Epoch 92/100\n",
      "5/5 [==============================] - 0s 2ms/step - loss: 34154106.0000 - mae: 4365.3604\n",
      "Epoch 93/100\n",
      "5/5 [==============================] - 0s 2ms/step - loss: 32772124.3333 - mae: 4321.1641\n",
      "Epoch 94/100\n",
      "5/5 [==============================] - 0s 3ms/step - loss: 32855105.0000 - mae: 4254.9046\n",
      "Epoch 95/100\n",
      "5/5 [==============================] - 0s 3ms/step - loss: 26305438.3333 - mae: 3908.4625\n",
      "Epoch 96/100\n",
      "5/5 [==============================] - 0s 3ms/step - loss: 38998971.3333 - mae: 4709.7595\n",
      "Epoch 97/100\n",
      "5/5 [==============================] - 0s 2ms/step - loss: 31672918.3333 - mae: 4181.9043\n",
      "Epoch 98/100\n",
      "5/5 [==============================] - 0s 3ms/step - loss: 30089812.6667 - mae: 4105.0706\n",
      "Epoch 99/100\n",
      "5/5 [==============================] - 0s 2ms/step - loss: 34876545.6667 - mae: 4360.9236\n",
      "Epoch 100/100\n",
      "5/5 [==============================] - 0s 3ms/step - loss: 31954893.0000 - mae: 4149.4336\n"
     ]
    },
    {
     "data": {
      "text/plain": [
       "<tensorflow.python.keras.callbacks.History at 0x2741697f880>"
      ]
     },
     "execution_count": 5,
     "metadata": {},
     "output_type": "execute_result"
    }
   ],
   "source": [
    "model.compile(optimizer='rmsprop',loss='mse',metrics=['mae'])\n",
    "model.fit(x_train, y_train,epochs=100)"
   ]
  },
  {
   "cell_type": "code",
   "execution_count": 6,
   "metadata": {},
   "outputs": [
    {
     "name": "stdout",
     "output_type": "stream",
     "text": [
      "2/2 [==============================] - 0s 3ms/step - loss: 0.0000e+00 - mae: 0.0000e+00\n"
     ]
    },
    {
     "data": {
      "text/plain": [
       "[0.0, 0.0]"
      ]
     },
     "execution_count": 6,
     "metadata": {},
     "output_type": "execute_result"
    }
   ],
   "source": [
    "model.evaluate(x_test)"
   ]
  },
  {
   "cell_type": "code",
   "execution_count": 7,
   "metadata": {},
   "outputs": [
    {
     "data": {
      "text/plain": [
       "array([[17967.863 ],\n",
       "       [16716.086 ],\n",
       "       [12791.48  ],\n",
       "       [14604.115 ],\n",
       "       [20200.795 ],\n",
       "       [11252.268 ],\n",
       "       [12451.04  ],\n",
       "       [11808.1045],\n",
       "       [13479.311 ],\n",
       "       [12342.408 ],\n",
       "       [14660.928 ],\n",
       "       [12121.292 ],\n",
       "       [14760.196 ],\n",
       "       [13345.9   ],\n",
       "       [21670.271 ],\n",
       "       [11133.502 ],\n",
       "       [ 8353.59  ],\n",
       "       [15662.491 ],\n",
       "       [13258.78  ],\n",
       "       [12920.471 ],\n",
       "       [13290.935 ],\n",
       "       [17075.475 ],\n",
       "       [11150.287 ],\n",
       "       [ 9599.587 ],\n",
       "       [11014.199 ],\n",
       "       [18706.705 ],\n",
       "       [14099.271 ],\n",
       "       [16533.21  ],\n",
       "       [11305.994 ],\n",
       "       [15943.609 ],\n",
       "       [19069.09  ],\n",
       "       [10907.811 ],\n",
       "       [12484.277 ],\n",
       "       [16632.031 ],\n",
       "       [11920.768 ],\n",
       "       [18954.578 ],\n",
       "       [13801.914 ],\n",
       "       [12996.201 ],\n",
       "       [10633.695 ],\n",
       "       [16112.253 ],\n",
       "       [12636.836 ],\n",
       "       [14705.231 ],\n",
       "       [16593.037 ],\n",
       "       [12439.248 ],\n",
       "       [10975.959 ],\n",
       "       [12637.176 ],\n",
       "       [10907.811 ],\n",
       "       [11731.559 ],\n",
       "       [17562.607 ],\n",
       "       [15556.155 ],\n",
       "       [10464.439 ],\n",
       "       [16516.295 ],\n",
       "       [11166.932 ],\n",
       "       [12920.344 ],\n",
       "       [11243.128 ],\n",
       "       [13906.249 ],\n",
       "       [14118.617 ],\n",
       "       [12996.201 ],\n",
       "       [15838.891 ],\n",
       "       [10679.5205],\n",
       "       [13089.75  ],\n",
       "       [16943.998 ]], dtype=float32)"
      ]
     },
     "execution_count": 7,
     "metadata": {},
     "output_type": "execute_result"
    }
   ],
   "source": [
    "model.predict(x_test)"
   ]
  },
  {
   "cell_type": "code",
   "execution_count": null,
   "metadata": {},
   "outputs": [],
   "source": []
  }
 ],
 "metadata": {
  "kernelspec": {
   "display_name": "Python 3",
   "language": "python",
   "name": "python3"
  },
  "language_info": {
   "codemirror_mode": {
    "name": "ipython",
    "version": 3
   },
   "file_extension": ".py",
   "mimetype": "text/x-python",
   "name": "python",
   "nbconvert_exporter": "python",
   "pygments_lexer": "ipython3",
   "version": "3.8.8"
  }
 },
 "nbformat": 4,
 "nbformat_minor": 2
}
