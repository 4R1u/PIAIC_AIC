{
 "cells": [
  {
   "cell_type": "markdown",
   "metadata": {},
   "source": [
    "# Car Price Prediction::"
   ]
  },
  {
   "cell_type": "markdown",
   "metadata": {},
   "source": [
    "Download dataset from this link:\n",
    "\n",
    "https://www.kaggle.com/hellbuoy/car-price-prediction"
   ]
  },
  {
   "cell_type": "markdown",
   "metadata": {},
   "source": [
    "# Problem Statement::"
   ]
  },
  {
   "cell_type": "markdown",
   "metadata": {},
   "source": [
    "A Chinese automobile company Geely Auto aspires to enter the US market by setting up their manufacturing unit there and producing cars locally to give competition to their US and European counterparts.\n",
    "\n",
    "They have contracted an automobile consulting company to understand the factors on which the pricing of cars depends. Specifically, they want to understand the factors affecting the pricing of cars in the American market, since those may be very different from the Chinese market. The company wants to know:\n",
    "\n",
    "Which variables are significant in predicting the price of a car\n",
    "How well those variables describe the price of a car\n",
    "Based on various market surveys, the consulting firm has gathered a large data set of different types of cars across the America market.\n",
    "\n",
    "# task::\n",
    "We are required to model the price of cars with the available independent variables. It will be used by the management to understand how exactly the prices vary with the independent variables. They can accordingly manipulate the design of the cars, the business strategy etc. to meet certain price levels. Further, the model will be a good way for management to understand the pricing dynamics of a new market."
   ]
  },
  {
   "cell_type": "markdown",
   "metadata": {},
   "source": [
    "# WORKFLOW ::"
   ]
  },
  {
   "cell_type": "markdown",
   "metadata": {},
   "source": [
    "1.Load Data\n",
    "\n",
    "2.Check Missing Values ( If Exist ; Fill each record with mean of its feature )\n",
    "\n",
    "3.Split into 50% Training(Samples,Labels) , 30% Test(Samples,Labels) and 20% Validation Data(Samples,Labels).\n",
    "\n",
    "4.Model : input Layer (No. of features ), 3 hidden layers including 10,8,6 unit & Output Layer with activation function relu/tanh (check by experiment).\n",
    "\n",
    "5.Compilation Step (Note : Its a Regression problem , select loss , metrics according to it)\n",
    "6.Train the Model with Epochs (100) and validate it\n",
    "\n",
    "7.If the model gets overfit tune your model by changing the units , No. of layers , activation function , epochs , add dropout layer or add Regularizer according to the need .\n",
    "\n",
    "8.Evaluation Step\n",
    "\n",
    "9.Prediction"
   ]
  },
  {
   "cell_type": "code",
   "execution_count": 1,
   "metadata": {},
   "outputs": [],
   "source": [
    "import numpy as np\n",
    "import pandas as pd\n",
    "import matplotlib.pyplot as plt\n",
    "import tensorflow as tf\n",
    "from tensorflow.keras import layers,models\n",
    "from tensorflow.keras.utils import to_categorical\n",
    "from tensorflow.keras import regularizers\n",
    "from sklearn.utils import shuffle\n",
    "cars_data=pd.read_csv('./CarPrice_Assignment.csv')\n",
    "cars_data=shuffle(cars_data)\n",
    "cars_data=cars_data.drop('CarName',axis=1)\n",
    "cars_data=cars_data.drop('car_ID',axis=1)\n",
    "from sklearn.preprocessing import LabelEncoder\n",
    "labelencoder = LabelEncoder()\n",
    "cars_data['fueltype']=labelencoder.fit_transform(cars_data['fueltype'])\n",
    "cars_data['aspiration']=labelencoder.fit_transform(cars_data['aspiration'])\n",
    "cars_data['doornumber'] = cars_data['doornumber'].map({'two':2,'four':4})\n",
    "cars_data['carbody']=labelencoder.fit_transform(cars_data['carbody'])\n",
    "cars_data['drivewheel']=labelencoder.fit_transform(cars_data['drivewheel'])\n",
    "cars_data['enginelocation']=labelencoder.fit_transform(cars_data['enginelocation'])\n",
    "cars_data['enginetype']=labelencoder.fit_transform(cars_data['enginetype'])\n",
    "cars_data['fuelsystem']=labelencoder.fit_transform(cars_data['fuelsystem'])\n",
    "cars_data['cylindernumber'] = labelencoder.fit_transform(cars_data['cylindernumber'])"
   ]
  },
  {
   "cell_type": "code",
   "execution_count": 2,
   "metadata": {},
   "outputs": [],
   "source": [
    "data=cars_data.fillna(cars_data.mean())"
   ]
  },
  {
   "cell_type": "code",
   "execution_count": 3,
   "metadata": {},
   "outputs": [],
   "source": [
    "x=(data.loc[:,data.columns!='price'])\n",
    "y=(data.loc[:,data.columns=='price'])\n",
    "x_train,x_test,x_val=np.split(x,[int(len(x)*0.5),int(len(x)*0.8)])\n",
    "y_train,y_test,y_val=np.split(y,[int(len(y)*0.5),int(len(y)*0.8)])\n",
    "x_train,x_test,x_val,y_train,y_test,y_val=np.asarray(x_train).astype(\"float64\"),np.asarray(x_test).astype(\"float64\"),np.asarray(x_val).astype(\"float64\"),np.asarray(y_train).astype(\"float64\"),np.asarray(y_test).astype(\"float64\"),np.asarray(y_val).astype(\"float64\")"
   ]
  },
  {
   "cell_type": "code",
   "execution_count": 4,
   "metadata": {},
   "outputs": [],
   "source": [
    "model = models.Sequential()\n",
    "model.add(layers.Dense(10, kernel_regularizer=regularizers.l2(0.01),activation='relu'))\n",
    "model.add(layers.Dropout(0.5))\n",
    "model.add(layers.Dense(5,kernel_regularizer=regularizers.l2(0.01),activation='relu'))\n",
    "model.add(layers.Dense(1))"
   ]
  },
  {
   "cell_type": "code",
   "execution_count": 5,
   "metadata": {},
   "outputs": [],
   "source": [
    "model.compile(optimizer='rmsprop', loss='mse', metrics=['mae'])"
   ]
  },
  {
   "cell_type": "code",
   "execution_count": 6,
   "metadata": {},
   "outputs": [
    {
     "name": "stdout",
     "output_type": "stream",
     "text": [
      "Epoch 1/100\n",
      "4/4 [==============================] - 1s 2ms/step - loss: 225540406.4000 - mae: 12472.7441\n",
      "Epoch 2/100\n",
      "4/4 [==============================] - 0s 2ms/step - loss: 202367036.8000 - mae: 11931.7307\n",
      "Epoch 3/100\n",
      "4/4 [==============================] - 0s 2ms/step - loss: 238156105.6000 - mae: 12806.0078\n",
      "Epoch 4/100\n",
      "4/4 [==============================] - 0s 2ms/step - loss: 214949024.0000 - mae: 12042.4682\n",
      "Epoch 5/100\n",
      "4/4 [==============================] - 0s 2ms/step - loss: 213686048.0000 - mae: 12217.3459\n",
      "Epoch 6/100\n",
      "4/4 [==============================] - 0s 2ms/step - loss: 221957155.2000 - mae: 12252.5111\n",
      "Epoch 7/100\n",
      "4/4 [==============================] - 0s 2ms/step - loss: 207538841.6000 - mae: 11673.0686\n",
      "Epoch 8/100\n",
      "4/4 [==============================] - 0s 3ms/step - loss: 191960400.0000 - mae: 11414.2719\n",
      "Epoch 9/100\n",
      "4/4 [==============================] - 0s 2ms/step - loss: 214729913.6000 - mae: 12040.7756\n",
      "Epoch 10/100\n",
      "4/4 [==============================] - 0s 2ms/step - loss: 205565760.0000 - mae: 11546.0459\n",
      "Epoch 11/100\n",
      "4/4 [==============================] - 0s 2ms/step - loss: 203479481.6000 - mae: 11535.0590\n",
      "Epoch 12/100\n",
      "4/4 [==============================] - 0s 2ms/step - loss: 213125980.8000 - mae: 11839.2252\n",
      "Epoch 13/100\n",
      "4/4 [==============================] - 0s 2ms/step - loss: 185766867.2000 - mae: 10810.5488\n",
      "Epoch 14/100\n",
      "4/4 [==============================] - 0s 2ms/step - loss: 170091142.4000 - mae: 10361.0541\n",
      "Epoch 15/100\n",
      "4/4 [==============================] - 0s 2ms/step - loss: 189924940.8000 - mae: 10719.1307\n",
      "Epoch 16/100\n",
      "4/4 [==============================] - 0s 2ms/step - loss: 180795622.4000 - mae: 10650.2734\n",
      "Epoch 17/100\n",
      "4/4 [==============================] - 0s 2ms/step - loss: 186224681.6000 - mae: 10846.0715\n",
      "Epoch 18/100\n",
      "4/4 [==============================] - 0s 2ms/step - loss: 198146294.4000 - mae: 11030.1535\n",
      "Epoch 19/100\n",
      "4/4 [==============================] - 0s 2ms/step - loss: 159754081.6000 - mae: 9632.8234\n",
      "Epoch 20/100\n",
      "4/4 [==============================] - 0s 2ms/step - loss: 168339126.4000 - mae: 10053.4330\n",
      "Epoch 21/100\n",
      "4/4 [==============================] - 0s 2ms/step - loss: 161514476.8000 - mae: 9763.5961\n",
      "Epoch 22/100\n",
      "4/4 [==============================] - 0s 2ms/step - loss: 176046233.6000 - mae: 10248.7992\n",
      "Epoch 23/100\n",
      "4/4 [==============================] - 0s 2ms/step - loss: 153754233.6000 - mae: 9582.7248\n",
      "Epoch 24/100\n",
      "4/4 [==============================] - 0s 2ms/step - loss: 165265865.6000 - mae: 9727.6174\n",
      "Epoch 25/100\n",
      "4/4 [==============================] - 0s 2ms/step - loss: 147326473.6000 - mae: 9115.9480\n",
      "Epoch 26/100\n",
      "4/4 [==============================] - 0s 2ms/step - loss: 160645702.4000 - mae: 9526.3906\n",
      "Epoch 27/100\n",
      "4/4 [==============================] - 0s 2ms/step - loss: 140441216.0000 - mae: 9032.5344\n",
      "Epoch 28/100\n",
      "4/4 [==============================] - 0s 2ms/step - loss: 164016544.0000 - mae: 9315.5377\n",
      "Epoch 29/100\n",
      "4/4 [==============================] - 0s 4ms/step - loss: 147663782.4000 - mae: 8834.5646\n",
      "Epoch 30/100\n",
      "4/4 [==============================] - 0s 3ms/step - loss: 151255056.0000 - mae: 8960.3219\n",
      "Epoch 31/100\n",
      "4/4 [==============================] - 0s 2ms/step - loss: 141988606.4000 - mae: 8638.2809\n",
      "Epoch 32/100\n",
      "4/4 [==============================] - 0s 3ms/step - loss: 148173718.4000 - mae: 8607.0584\n",
      "Epoch 33/100\n",
      "4/4 [==============================] - 0s 3ms/step - loss: 121035520.0000 - mae: 7983.6362\n",
      "Epoch 34/100\n",
      "4/4 [==============================] - 0s 2ms/step - loss: 133890032.0000 - mae: 8080.7219\n",
      "Epoch 35/100\n",
      "4/4 [==============================] - 0s 2ms/step - loss: 145973918.4000 - mae: 8442.8212\n",
      "Epoch 36/100\n",
      "4/4 [==============================] - 0s 2ms/step - loss: 131851132.8000 - mae: 8142.7116\n",
      "Epoch 37/100\n",
      "4/4 [==============================] - 0s 2ms/step - loss: 129416672.0000 - mae: 8129.3381\n",
      "Epoch 38/100\n",
      "4/4 [==============================] - 0s 2ms/step - loss: 121244841.6000 - mae: 7468.4313\n",
      "Epoch 39/100\n",
      "4/4 [==============================] - 0s 2ms/step - loss: 119427379.2000 - mae: 8002.1578\n",
      "Epoch 40/100\n",
      "4/4 [==============================] - 0s 3ms/step - loss: 111069438.4000 - mae: 7236.0999\n",
      "Epoch 41/100\n",
      "4/4 [==============================] - 0s 3ms/step - loss: 140204808.0000 - mae: 8837.2170\n",
      "Epoch 42/100\n",
      "4/4 [==============================] - 0s 2ms/step - loss: 128074814.4000 - mae: 7513.5174\n",
      "Epoch 43/100\n",
      "4/4 [==============================] - 0s 2ms/step - loss: 131327067.2000 - mae: 7675.1824\n",
      "Epoch 44/100\n",
      "4/4 [==============================] - 0s 2ms/step - loss: 108686347.2000 - mae: 7729.2398\n",
      "Epoch 45/100\n",
      "4/4 [==============================] - 0s 2ms/step - loss: 126952254.4000 - mae: 7766.4065\n",
      "Epoch 46/100\n",
      "4/4 [==============================] - 0s 2ms/step - loss: 125363214.4000 - mae: 8061.2529\n",
      "Epoch 47/100\n",
      "4/4 [==============================] - 0s 2ms/step - loss: 97006302.4000 - mae: 6559.4972\n",
      "Epoch 48/100\n",
      "4/4 [==============================] - 0s 3ms/step - loss: 114005556.8000 - mae: 7128.9950\n",
      "Epoch 49/100\n",
      "4/4 [==============================] - 0s 2ms/step - loss: 115158297.6000 - mae: 7471.8843\n",
      "Epoch 50/100\n",
      "4/4 [==============================] - 0s 2ms/step - loss: 103616619.2000 - mae: 7237.4889\n",
      "Epoch 51/100\n",
      "4/4 [==============================] - 0s 3ms/step - loss: 100761761.6000 - mae: 6797.0656\n",
      "Epoch 52/100\n",
      "4/4 [==============================] - 0s 2ms/step - loss: 101847236.8000 - mae: 7100.6367\n",
      "Epoch 53/100\n",
      "4/4 [==============================] - 0s 2ms/step - loss: 98884758.4000 - mae: 6594.6813\n",
      "Epoch 54/100\n",
      "4/4 [==============================] - 0s 2ms/step - loss: 106606896.0000 - mae: 7141.0468\n",
      "Epoch 55/100\n",
      "4/4 [==============================] - 0s 2ms/step - loss: 115820739.2000 - mae: 7343.8185\n",
      "Epoch 56/100\n",
      "4/4 [==============================] - 0s 2ms/step - loss: 130291142.4000 - mae: 7920.2676\n",
      "Epoch 57/100\n",
      "4/4 [==============================] - 0s 2ms/step - loss: 97225307.2000 - mae: 6671.2522\n",
      "Epoch 58/100\n",
      "4/4 [==============================] - 0s 2ms/step - loss: 81891752.0000 - mae: 6468.0714\n",
      "Epoch 59/100\n",
      "4/4 [==============================] - 0s 2ms/step - loss: 100204019.2000 - mae: 7127.9427\n",
      "Epoch 60/100\n",
      "4/4 [==============================] - 0s 2ms/step - loss: 91207408.0000 - mae: 6882.8219\n",
      "Epoch 61/100\n",
      "4/4 [==============================] - 0s 2ms/step - loss: 93121350.4000 - mae: 6926.2518\n",
      "Epoch 62/100\n",
      "4/4 [==============================] - 0s 2ms/step - loss: 95781174.4000 - mae: 6756.7432\n",
      "Epoch 63/100\n",
      "4/4 [==============================] - 0s 2ms/step - loss: 66404884.8000 - mae: 6270.3549\n",
      "Epoch 64/100\n",
      "4/4 [==============================] - 0s 2ms/step - loss: 106038980.8000 - mae: 7446.2036\n",
      "Epoch 65/100\n",
      "4/4 [==============================] - 0s 2ms/step - loss: 81829819.2000 - mae: 6708.5893\n",
      "Epoch 66/100\n",
      "4/4 [==============================] - 0s 2ms/step - loss: 109043057.6000 - mae: 7453.8374\n",
      "Epoch 67/100\n",
      "4/4 [==============================] - 0s 2ms/step - loss: 99922974.4000 - mae: 7604.7379\n",
      "Epoch 68/100\n",
      "4/4 [==============================] - 0s 2ms/step - loss: 76283166.4000 - mae: 6627.7678\n",
      "Epoch 69/100\n",
      "4/4 [==============================] - 0s 2ms/step - loss: 92189396.8000 - mae: 6706.9887\n",
      "Epoch 70/100\n",
      "4/4 [==============================] - 0s 3ms/step - loss: 74975659.2000 - mae: 6264.6228\n",
      "Epoch 71/100\n",
      "4/4 [==============================] - 0s 2ms/step - loss: 92562960.0000 - mae: 7215.5820\n",
      "Epoch 72/100\n",
      "4/4 [==============================] - 0s 2ms/step - loss: 101738217.6000 - mae: 7368.1328\n",
      "Epoch 73/100\n",
      "4/4 [==============================] - 0s 2ms/step - loss: 91421985.6000 - mae: 6994.1807\n",
      "Epoch 74/100\n",
      "4/4 [==============================] - 0s 2ms/step - loss: 90511624.0000 - mae: 6504.0158\n",
      "Epoch 75/100\n",
      "4/4 [==============================] - 0s 2ms/step - loss: 86572600.0000 - mae: 6986.9207\n",
      "Epoch 76/100\n",
      "4/4 [==============================] - 0s 2ms/step - loss: 84107836.8000 - mae: 6541.1545\n",
      "Epoch 77/100\n",
      "4/4 [==============================] - 0s 2ms/step - loss: 93738956.8000 - mae: 7054.4209\n",
      "Epoch 78/100\n",
      "4/4 [==============================] - 0s 2ms/step - loss: 109542057.6000 - mae: 7532.2084\n",
      "Epoch 79/100\n",
      "4/4 [==============================] - 0s 2ms/step - loss: 90878870.4000 - mae: 6788.3852\n",
      "Epoch 80/100\n",
      "4/4 [==============================] - 0s 2ms/step - loss: 99959412.8000 - mae: 7212.6844\n",
      "Epoch 81/100\n",
      "4/4 [==============================] - 0s 2ms/step - loss: 73261259.2000 - mae: 6122.5635\n",
      "Epoch 82/100\n",
      "4/4 [==============================] - 0s 2ms/step - loss: 93345443.2000 - mae: 6827.1746\n",
      "Epoch 83/100\n",
      "4/4 [==============================] - 0s 2ms/step - loss: 89483022.4000 - mae: 6676.4858\n",
      "Epoch 84/100\n",
      "4/4 [==============================] - 0s 2ms/step - loss: 91660132.0000 - mae: 6928.1692\n",
      "Epoch 85/100\n",
      "4/4 [==============================] - 0s 2ms/step - loss: 132723622.4000 - mae: 8265.3266\n",
      "Epoch 86/100\n",
      "4/4 [==============================] - 0s 2ms/step - loss: 97710543.2000 - mae: 6966.0469\n",
      "Epoch 87/100\n",
      "4/4 [==============================] - 0s 2ms/step - loss: 90609272.0000 - mae: 5948.5960\n",
      "Epoch 88/100\n",
      "4/4 [==============================] - 0s 2ms/step - loss: 96134902.4000 - mae: 7140.2414\n",
      "Epoch 89/100\n",
      "4/4 [==============================] - 0s 2ms/step - loss: 105353529.6000 - mae: 7446.5076\n",
      "Epoch 90/100\n",
      "4/4 [==============================] - 0s 2ms/step - loss: 102851273.6000 - mae: 7816.2935\n",
      "Epoch 91/100\n",
      "4/4 [==============================] - 0s 2ms/step - loss: 117603852.8000 - mae: 7330.4314\n",
      "Epoch 92/100\n",
      "4/4 [==============================] - 0s 2ms/step - loss: 80885816.8000 - mae: 6667.9034\n",
      "Epoch 93/100\n",
      "4/4 [==============================] - 0s 2ms/step - loss: 89815208.0000 - mae: 7346.6772\n",
      "Epoch 94/100\n",
      "4/4 [==============================] - 0s 2ms/step - loss: 98939995.2000 - mae: 6763.5360\n",
      "Epoch 95/100\n",
      "4/4 [==============================] - 0s 2ms/step - loss: 54723036.8000 - mae: 5605.0916\n",
      "Epoch 96/100\n",
      "4/4 [==============================] - 0s 2ms/step - loss: 71907643.2000 - mae: 6479.9701\n",
      "Epoch 97/100\n",
      "4/4 [==============================] - 0s 2ms/step - loss: 111953788.8000 - mae: 7657.1908\n",
      "Epoch 98/100\n",
      "4/4 [==============================] - 0s 2ms/step - loss: 94672825.6000 - mae: 6855.5948\n",
      "Epoch 99/100\n",
      "4/4 [==============================] - 0s 2ms/step - loss: 61840478.4000 - mae: 5966.7264\n",
      "Epoch 100/100\n",
      "4/4 [==============================] - 0s 2ms/step - loss: 78437196.8000 - mae: 6355.4188\n"
     ]
    },
    {
     "data": {
      "text/plain": [
       "<tensorflow.python.keras.callbacks.History at 0x16f191ccd30>"
      ]
     },
     "execution_count": 6,
     "metadata": {},
     "output_type": "execute_result"
    }
   ],
   "source": [
    "model.fit(x_train,y_train,epochs=100)"
   ]
  },
  {
   "cell_type": "code",
   "execution_count": 7,
   "metadata": {},
   "outputs": [
    {
     "name": "stdout",
     "output_type": "stream",
     "text": [
      "2/2 [==============================] - 0s 3ms/step - loss: 0.2256 - mae: 0.0000e+00\n"
     ]
    },
    {
     "data": {
      "text/plain": [
       "[0.22562676668167114, 0.0]"
      ]
     },
     "execution_count": 7,
     "metadata": {},
     "output_type": "execute_result"
    }
   ],
   "source": [
    "model.evaluate(x_val)"
   ]
  },
  {
   "cell_type": "code",
   "execution_count": 8,
   "metadata": {},
   "outputs": [
    {
     "data": {
      "text/plain": [
       "array([[11350.203 ],\n",
       "       [13195.502 ],\n",
       "       [11002.553 ],\n",
       "       [11111.628 ],\n",
       "       [11386.651 ],\n",
       "       [12419.341 ],\n",
       "       [11634.072 ],\n",
       "       [11815.403 ],\n",
       "       [10428.251 ],\n",
       "       [10870.37  ],\n",
       "       [12650.868 ],\n",
       "       [10548.636 ],\n",
       "       [12475.659 ],\n",
       "       [ 9697.942 ],\n",
       "       [11337.151 ],\n",
       "       [12634.835 ],\n",
       "       [11030.184 ],\n",
       "       [ 9530.302 ],\n",
       "       [11032.969 ],\n",
       "       [12256.056 ],\n",
       "       [ 9827.651 ],\n",
       "       [10790.436 ],\n",
       "       [12235.356 ],\n",
       "       [10396.667 ],\n",
       "       [11013.993 ],\n",
       "       [ 9835.476 ],\n",
       "       [11258.522 ],\n",
       "       [11965.842 ],\n",
       "       [10371.888 ],\n",
       "       [13825.355 ],\n",
       "       [ 9892.643 ],\n",
       "       [11800.858 ],\n",
       "       [10953.886 ],\n",
       "       [10517.563 ],\n",
       "       [10275.723 ],\n",
       "       [12401.6875],\n",
       "       [12209.11  ],\n",
       "       [ 9988.56  ],\n",
       "       [11689.589 ],\n",
       "       [10564.011 ],\n",
       "       [12428.67  ],\n",
       "       [11868.9795],\n",
       "       [11646.985 ],\n",
       "       [ 9905.856 ],\n",
       "       [10025.018 ],\n",
       "       [ 9776.663 ],\n",
       "       [ 9675.268 ],\n",
       "       [11920.612 ],\n",
       "       [12310.14  ],\n",
       "       [10636.985 ],\n",
       "       [10395.052 ],\n",
       "       [12877.218 ],\n",
       "       [11478.676 ],\n",
       "       [11172.502 ],\n",
       "       [12139.328 ],\n",
       "       [10427.072 ],\n",
       "       [10366.071 ],\n",
       "       [11660.424 ],\n",
       "       [10251.101 ],\n",
       "       [10263.575 ],\n",
       "       [12441.538 ],\n",
       "       [11565.434 ]], dtype=float32)"
      ]
     },
     "execution_count": 8,
     "metadata": {},
     "output_type": "execute_result"
    }
   ],
   "source": [
    "model.predict(x_test)"
   ]
  }
 ],
 "metadata": {
  "kernelspec": {
   "display_name": "Python 3",
   "language": "python",
   "name": "python3"
  },
  "language_info": {
   "codemirror_mode": {
    "name": "ipython",
    "version": 3
   },
   "file_extension": ".py",
   "mimetype": "text/x-python",
   "name": "python",
   "nbconvert_exporter": "python",
   "pygments_lexer": "ipython3",
   "version": "3.8.8"
  }
 },
 "nbformat": 4,
 "nbformat_minor": 4
}
