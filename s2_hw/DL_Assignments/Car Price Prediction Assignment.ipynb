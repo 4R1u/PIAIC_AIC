{
 "cells": [
  {
   "cell_type": "markdown",
   "metadata": {
    "id": "b59Zhcgr4xDW"
   },
   "source": [
    "# Car Price Prediction::"
   ]
  },
  {
   "cell_type": "markdown",
   "metadata": {
    "id": "t5cYoduO4xDe"
   },
   "source": [
    "Download dataset from this link:\n",
    "\n",
    "https://www.kaggle.com/hellbuoy/car-price-prediction"
   ]
  },
  {
   "cell_type": "markdown",
   "metadata": {
    "id": "P1uGOJE24xDe"
   },
   "source": [
    "# Problem Statement::"
   ]
  },
  {
   "cell_type": "markdown",
   "metadata": {
    "id": "EZ1L4ucg4xDf"
   },
   "source": [
    "A Chinese automobile company Geely Auto aspires to enter the US market by setting up their manufacturing unit there and producing cars locally to give competition to their US and European counterparts.\n",
    "\n",
    "They have contracted an automobile consulting company to understand the factors on which the pricing of cars depends. Specifically, they want to understand the factors affecting the pricing of cars in the American market, since those may be very different from the Chinese market. The company wants to know:\n",
    "\n",
    "Which variables are significant in predicting the price of a car\n",
    "How well those variables describe the price of a car\n",
    "Based on various market surveys, the consulting firm has gathered a large data set of different types of cars across the America market.\n",
    "\n",
    "# task::\n",
    "We are required to model the price of cars with the available independent variables. It will be used by the management to understand how exactly the prices vary with the independent variables. They can accordingly manipulate the design of the cars, the business strategy etc. to meet certain price levels. Further, the model will be a good way for management to understand the pricing dynamics of a new market."
   ]
  },
  {
   "cell_type": "markdown",
   "metadata": {
    "id": "VX2tTcyO4xDf"
   },
   "source": [
    "# WORKFLOW ::"
   ]
  },
  {
   "cell_type": "markdown",
   "metadata": {
    "id": "m7NlBwar4xDg"
   },
   "source": [
    "1.Load Data\n",
    "\n",
    "2.Check Missing Values ( If Exist ; Fill each record with mean of its feature )\n",
    "\n",
    "3.Split into 50% Training(Samples,Labels) , 30% Test(Samples,Labels) and 20% Validation Data(Samples,Labels).\n",
    "\n",
    "4.Model : input Layer (No. of features ), 3 hidden layers including 10,8,6 unit & Output Layer with activation function relu/tanh (check by experiment).\n",
    "\n",
    "5.Compilation Step (Note : Its a Regression problem , select loss , metrics according to it)\n",
    "6.Train the Model with Epochs (100) and validate it\n",
    "\n",
    "7.If the model gets overfit tune your model by changing the units , No. of layers , activation function , epochs , add dropout layer or add Regularizer according to the need .\n",
    "\n",
    "8.Evaluation Step\n",
    "\n",
    "9.Prediction"
   ]
  },
  {
   "cell_type": "code",
   "execution_count": 1,
   "metadata": {
    "colab": {
     "base_uri": "https://localhost:8080/",
     "height": 73,
     "resources": {
      "http://localhost:8080/nbextensions/google.colab/files.js": {
       "data": "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",
       "headers": [
        [
         "content-type",
         "application/javascript"
        ]
       ],
       "ok": true,
       "status": 200,
       "status_text": ""
      }
     }
    },
    "id": "7IAEHuc_4xDg",
    "outputId": "26561c0b-49ac-4d5d-a2bd-218faaeec5b4"
   },
   "outputs": [],
   "source": [
    "import pandas as pd\n",
    "import numpy as np\n",
    "from tensorflow.keras.models import Sequential\n",
    "from tensorflow.keras.layers import Dense \n",
    "from tensorflow.keras.optimizers import Adam, SGD\n",
    "import tensorflow as tf\n",
    "from tensorflow.keras import layers\n",
    "from tensorflow.keras.layers.experimental import preprocessing"
   ]
  },
  {
   "cell_type": "code",
   "execution_count": 2,
   "metadata": {
    "colab": {
     "base_uri": "https://localhost:8080/"
    },
    "id": "m0meFbT24xDh",
    "outputId": "2b048754-2927-4c75-9ffc-41cb7e6bd2e4"
   },
   "outputs": [],
   "source": [
    "car_price_predicton_train = pd.read_csv('CarPrice_Assignment.csv')"
   ]
  },
  {
   "cell_type": "code",
   "execution_count": 3,
   "metadata": {
    "id": "O0zl97lzWC_h"
   },
   "outputs": [],
   "source": [
    "from sklearn.preprocessing import LabelEncoder\n",
    "labelencoder = LabelEncoder()\n",
    "car_price_predicton_train['fueltype'] = labelencoder.fit_transform(car_price_predicton_train['fueltype'])\n",
    "car_price_predicton_train['aspiration'] = labelencoder.fit_transform(car_price_predicton_train['aspiration'])\n",
    "car_price_predicton_train['carbody'] = labelencoder.fit_transform(car_price_predicton_train['carbody'])\n",
    "car_price_predicton_train['drivewheel'] = labelencoder.fit_transform(car_price_predicton_train['drivewheel'])\n",
    "car_price_predicton_train['enginelocation'] = labelencoder.fit_transform(car_price_predicton_train['enginelocation'])\n",
    "car_price_predicton_train['fuelsystem'] = labelencoder.fit_transform(car_price_predicton_train['enginelocation'])\n",
    "car_price_predicton_train['doornumber'] = car_price_predicton_train['doornumber'].map({'two':2,'four':4})"
   ]
  },
  {
   "cell_type": "code",
   "execution_count": 4,
   "metadata": {
    "colab": {
     "base_uri": "https://localhost:8080/"
    },
    "id": "y7AGcDwt4xDi",
    "outputId": "f1d50a72-b3a6-4bf6-bfef-b8c9686ad8c0"
   },
   "outputs": [],
   "source": [
    "data1 = car_price_predicton_train[['horsepower','boreratio','enginesize','curbweight','carwidth','carlength',\n",
    "              'wheelbase','drivewheel','price','enginelocation'] ]"
   ]
  },
  {
   "cell_type": "code",
   "execution_count": 5,
   "metadata": {
    "colab": {
     "base_uri": "https://localhost:8080/"
    },
    "id": "_WZAKkVrILeO",
    "outputId": "db3186d9-dfee-4b03-e24a-1f72f5db89a5"
   },
   "outputs": [],
   "source": [
    "x = (data1.loc[:, data1.columns != 'price'])\n",
    "y = (data1.loc[:, data1.columns == 'price'])\n",
    "train_ratio = 0.5\n",
    "validation_ratio = 0.20\n",
    "test_ratio = 0.30\n",
    "from sklearn.model_selection import train_test_split\n",
    "x_train, x_test, y_train, y_test = train_test_split(x, y, test_size=1 - train_ratio)\n",
    "x_val, x_test, y_val, y_test = train_test_split(x_test, y_test, test_size=test_ratio/(test_ratio + validation_ratio))"
   ]
  },
  {
   "cell_type": "code",
   "execution_count": 6,
   "metadata": {
    "id": "sjy2D0Q2RErI"
   },
   "outputs": [],
   "source": [
    "def build_model():\n",
    "    from tensorflow import keras\n",
    "    from tensorflow.keras import regularizers\n",
    "    model = keras.models.Sequential()\n",
    "    model.add(layers.Dense(256, activation='relu',\n",
    "                           input_shape=(x_train.shape[1],)))\n",
    "    model.add(layers.Dropout(0.3))\n",
    "    model.add(layers.Dense(256, kernel_regularizer=regularizers.l1_l2(l1=0.001,l2=0.001), activation='relu'))\n",
    "    model.add(layers.Dropout(0.3))  \n",
    "    model.add(layers.Dense(256, kernel_regularizer=regularizers.l1_l2(l1=0.001,l2=0.001), activation='relu'))\n",
    "    model.add(layers.Dropout(0.3))\n",
    "    model.add(layers.Dense(128, kernel_regularizer=regularizers.l1_l2(l1=0.001,l2=0.001), activation='relu'))\n",
    "    model.add(layers.Dropout(0.3))\n",
    "    model.add(layers.Dense(128, kernel_regularizer=regularizers.l1_l2(l1=0.001,l2=0.001), activation='relu'))\n",
    "    model.add(layers.Dropout(0.3))\n",
    "    model.add(layers.Dense(128, kernel_regularizer=regularizers.l1_l2(l1=0.001,l2=0.001), activation='relu'))\n",
    "    model.add(layers.Dropout(0.3))\n",
    "    model.add(layers.Dense(1))\n",
    "    optimizer = keras.optimizers.RMSprop(0.001)\n",
    "    model.compile(optimizer= optimizer, loss='mse', metrics=['mae', 'mse'])\n",
    "    return model"
   ]
  },
  {
   "cell_type": "code",
   "execution_count": 7,
   "metadata": {
    "id": "AWiiu0UUSZd_"
   },
   "outputs": [],
   "source": [
    "model=build_model()"
   ]
  },
  {
   "cell_type": "code",
   "execution_count": 8,
   "metadata": {
    "colab": {
     "base_uri": "https://localhost:8080/"
    },
    "id": "0-Np9sPbS06q",
    "outputId": "8436b8ce-41b4-4c2e-f8a9-9eb9d89d093f"
   },
   "outputs": [
    {
     "name": "stdout",
     "output_type": "stream",
     "text": [
      "Epoch 1/100\n",
      "4/4 [==============================] - 3s 439ms/step - loss: 278523939.2000 - mae: 13551.6764 - mse: 278523939.2000 - val_loss: 84901784.0000 - val_mae: 6544.6099 - val_mse: 84901768.0000\n",
      "Epoch 2/100\n",
      "4/4 [==============================] - 0s 19ms/step - loss: 91904065.6000 - mae: 6739.8419 - mse: 91904048.0000 - val_loss: 30905794.0000 - val_mae: 4396.8628 - val_mse: 30905782.0000\n",
      "Epoch 3/100\n",
      "4/4 [==============================] - 0s 18ms/step - loss: 52346011.2000 - mae: 5249.0925 - mse: 52345999.2000 - val_loss: 38705720.0000 - val_mae: 5413.0459 - val_mse: 38705708.0000\n",
      "Epoch 4/100\n",
      "4/4 [==============================] - 0s 19ms/step - loss: 68887440.8000 - mae: 6190.9374 - mse: 68887424.8000 - val_loss: 36512816.0000 - val_mae: 4063.5198 - val_mse: 36512804.0000\n",
      "Epoch 5/100\n",
      "4/4 [==============================] - 0s 18ms/step - loss: 55972664.0000 - mae: 4774.7264 - mse: 55972649.6000 - val_loss: 89454832.0000 - val_mae: 8856.6250 - val_mse: 89454816.0000\n",
      "Epoch 6/100\n",
      "4/4 [==============================] - 0s 18ms/step - loss: 103570110.4000 - mae: 7624.3198 - mse: 103570104.0000 - val_loss: 30913262.0000 - val_mae: 4534.2124 - val_mse: 30913248.0000\n",
      "Epoch 7/100\n",
      "4/4 [==============================] - 0s 18ms/step - loss: 64787095.2000 - mae: 6374.1405 - mse: 64787079.2000 - val_loss: 39376296.0000 - val_mae: 4008.1787 - val_mse: 39376284.0000\n",
      "Epoch 8/100\n",
      "4/4 [==============================] - 0s 20ms/step - loss: 57256396.8000 - mae: 5188.9549 - mse: 57256385.6000 - val_loss: 34941372.0000 - val_mae: 5103.7363 - val_mse: 34941360.0000\n",
      "Epoch 9/100\n",
      "4/4 [==============================] - 0s 19ms/step - loss: 55574871.2000 - mae: 5559.3272 - mse: 55574866.4000 - val_loss: 40874084.0000 - val_mae: 5573.1304 - val_mse: 40874076.0000\n",
      "Epoch 10/100\n",
      "4/4 [==============================] - 0s 19ms/step - loss: 75353976.0000 - mae: 6681.1656 - mse: 75353960.0000 - val_loss: 45870660.0000 - val_mae: 4114.8149 - val_mse: 45870648.0000\n",
      "Epoch 11/100\n",
      "4/4 [==============================] - 0s 18ms/step - loss: 62478588.0000 - mae: 5030.5591 - mse: 62478580.8000 - val_loss: 31486558.0000 - val_mae: 4684.3291 - val_mse: 31486546.0000\n",
      "Epoch 12/100\n",
      "4/4 [==============================] - 0s 19ms/step - loss: 54019231.2000 - mae: 5625.5947 - mse: 54019223.2000 - val_loss: 30910552.0000 - val_mae: 4585.3052 - val_mse: 30910538.0000\n",
      "Epoch 13/100\n",
      "4/4 [==============================] - 0s 19ms/step - loss: 54556966.4000 - mae: 5444.4568 - mse: 54556957.6000 - val_loss: 48807256.0000 - val_mae: 6202.5513 - val_mse: 48807248.0000\n",
      "Epoch 14/100\n",
      "4/4 [==============================] - 0s 24ms/step - loss: 67565288.8000 - mae: 6276.9756 - mse: 67565272.8000 - val_loss: 36626824.0000 - val_mae: 5265.9160 - val_mse: 36626812.0000\n",
      "Epoch 15/100\n",
      "4/4 [==============================] - 0s 21ms/step - loss: 57357837.6000 - mae: 5656.9198 - mse: 57357828.8000 - val_loss: 37094496.0000 - val_mae: 5303.9712 - val_mse: 37094488.0000\n",
      "Epoch 16/100\n",
      "4/4 [==============================] - 0s 19ms/step - loss: 60909246.4000 - mae: 6170.2531 - mse: 60909234.4000 - val_loss: 42402412.0000 - val_mae: 4015.1074 - val_mse: 42402396.0000\n",
      "Epoch 17/100\n",
      "4/4 [==============================] - 0s 27ms/step - loss: 57765272.0000 - mae: 5018.3476 - mse: 57765260.8000 - val_loss: 35939220.0000 - val_mae: 4011.7583 - val_mse: 35939208.0000\n",
      "Epoch 18/100\n",
      "4/4 [==============================] - 0s 26ms/step - loss: 86894385.6000 - mae: 6634.3938 - mse: 86894371.2000 - val_loss: 32813188.0000 - val_mae: 4062.8918 - val_mse: 32813174.0000\n",
      "Epoch 19/100\n",
      "4/4 [==============================] - 0s 20ms/step - loss: 52834492.0000 - mae: 5236.2547 - mse: 52834483.2000 - val_loss: 42293336.0000 - val_mae: 4003.1929 - val_mse: 42293324.0000\n",
      "Epoch 20/100\n",
      "4/4 [==============================] - 0s 20ms/step - loss: 66730024.0000 - mae: 5424.6847 - mse: 66730010.4000 - val_loss: 32286546.0000 - val_mae: 4070.4871 - val_mse: 32286532.0000\n",
      "Epoch 21/100\n",
      "4/4 [==============================] - 0s 20ms/step - loss: 60053747.2000 - mae: 5137.5612 - mse: 60053736.0000 - val_loss: 32013624.0000 - val_mae: 4076.9641 - val_mse: 32013612.0000\n",
      "Epoch 22/100\n",
      "4/4 [==============================] - 0s 19ms/step - loss: 72840728.8000 - mae: 6057.1797 - mse: 72840716.8000 - val_loss: 34522024.0000 - val_mae: 4006.2168 - val_mse: 34522012.0000\n",
      "Epoch 23/100\n",
      "4/4 [==============================] - 0s 20ms/step - loss: 57785382.4000 - mae: 5393.4559 - mse: 57785368.0000 - val_loss: 47973788.0000 - val_mae: 4185.7671 - val_mse: 47973780.0000\n",
      "Epoch 24/100\n",
      "4/4 [==============================] - 0s 21ms/step - loss: 56213228.8000 - mae: 4940.8635 - mse: 56213219.2000 - val_loss: 30699780.0000 - val_mae: 4157.1816 - val_mse: 30699770.0000\n",
      "Epoch 25/100\n",
      "4/4 [==============================] - 0s 21ms/step - loss: 48102125.6000 - mae: 4774.7628 - mse: 48102116.0000 - val_loss: 46789112.0000 - val_mae: 6057.1553 - val_mse: 46789100.0000\n",
      "Epoch 26/100\n",
      "4/4 [==============================] - 0s 20ms/step - loss: 83977376.0000 - mae: 7031.6147 - mse: 83977364.8000 - val_loss: 33503350.0000 - val_mae: 4001.5942 - val_mse: 33503338.0000\n",
      "Epoch 27/100\n",
      "4/4 [==============================] - 0s 20ms/step - loss: 70675906.4000 - mae: 6048.0083 - mse: 70675892.8000 - val_loss: 53689296.0000 - val_mae: 4475.9458 - val_mse: 53689280.0000\n",
      "Epoch 28/100\n",
      "4/4 [==============================] - 0s 15ms/step - loss: 64003329.6000 - mae: 5137.7034 - mse: 64003316.8000 - val_loss: 34016192.0000 - val_mae: 3982.3921 - val_mse: 34016176.0000\n",
      "Epoch 29/100\n",
      "4/4 [==============================] - 0s 20ms/step - loss: 57366680.0000 - mae: 4937.6021 - mse: 57366674.4000 - val_loss: 31575040.0000 - val_mae: 4045.4771 - val_mse: 31575024.0000\n",
      "Epoch 30/100\n",
      "4/4 [==============================] - 0s 21ms/step - loss: 42658396.0000 - mae: 4550.1208 - mse: 42658386.0000 - val_loss: 30272656.0000 - val_mae: 4616.8228 - val_mse: 30272644.0000\n",
      "Epoch 31/100\n",
      "4/4 [==============================] - 0s 16ms/step - loss: 68429963.2000 - mae: 5831.6307 - mse: 68429956.0000 - val_loss: 30398246.0000 - val_mae: 4643.4570 - val_mse: 30398236.0000\n",
      "Epoch 32/100\n",
      "4/4 [==============================] - 0s 20ms/step - loss: 49158774.4000 - mae: 5587.3876 - mse: 49158768.8000 - val_loss: 30731352.0000 - val_mae: 4698.4712 - val_mse: 30731338.0000\n",
      "Epoch 33/100\n",
      "4/4 [==============================] - 0s 16ms/step - loss: 49860464.8000 - mae: 5237.3309 - mse: 49860456.0000 - val_loss: 29758426.0000 - val_mae: 4142.8584 - val_mse: 29758414.0000\n",
      "Epoch 34/100\n",
      "4/4 [==============================] - 0s 20ms/step - loss: 48398861.6000 - mae: 5106.5878 - mse: 48398850.4000 - val_loss: 55931256.0000 - val_mae: 6740.2446 - val_mse: 55931248.0000\n",
      "Epoch 35/100\n",
      "4/4 [==============================] - 0s 16ms/step - loss: 70188850.4000 - mae: 6591.1249 - mse: 70188838.4000 - val_loss: 35291816.0000 - val_mae: 5188.8682 - val_mse: 35291804.0000\n",
      "Epoch 36/100\n",
      "4/4 [==============================] - 0s 20ms/step - loss: 70604187.2000 - mae: 6321.5720 - mse: 70604172.8000 - val_loss: 29131658.0000 - val_mae: 4196.2666 - val_mse: 29131648.0000\n",
      "Epoch 37/100\n",
      "4/4 [==============================] - 0s 16ms/step - loss: 55693024.8000 - mae: 5328.7310 - mse: 55693015.2000 - val_loss: 30711942.0000 - val_mae: 4030.9961 - val_mse: 30711932.0000\n",
      "Epoch 38/100\n",
      "4/4 [==============================] - 0s 21ms/step - loss: 58960524.0000 - mae: 5416.7486 - mse: 58960512.8000 - val_loss: 33092480.0000 - val_mae: 4997.9951 - val_mse: 33092470.0000\n",
      "Epoch 39/100\n",
      "4/4 [==============================] - 0s 16ms/step - loss: 52393867.2000 - mae: 5554.6757 - mse: 52393858.4000 - val_loss: 32591946.0000 - val_mae: 4949.1226 - val_mse: 32591934.0000\n",
      "Epoch 40/100\n",
      "4/4 [==============================] - 0s 16ms/step - loss: 66443549.6000 - mae: 6464.6820 - mse: 66443538.4000 - val_loss: 28696832.0000 - val_mae: 4227.5884 - val_mse: 28696820.0000\n",
      "Epoch 41/100\n",
      "4/4 [==============================] - 0s 15ms/step - loss: 63787596.8000 - mae: 5735.4842 - mse: 63787584.8000 - val_loss: 30422702.0000 - val_mae: 4691.7549 - val_mse: 30422694.0000\n",
      "Epoch 42/100\n",
      "4/4 [==============================] - 0s 20ms/step - loss: 44461547.2000 - mae: 4883.6052 - mse: 44461538.0000 - val_loss: 31070832.0000 - val_mae: 4786.0557 - val_mse: 31070820.0000\n",
      "Epoch 43/100\n",
      "4/4 [==============================] - 0s 16ms/step - loss: 56184374.4000 - mae: 5604.7508 - mse: 56184361.6000 - val_loss: 60261208.0000 - val_mae: 7061.9390 - val_mse: 60261200.0000\n",
      "Epoch 44/100\n",
      "4/4 [==============================] - 0s 16ms/step - loss: 70247528.0000 - mae: 6335.2469 - mse: 70247512.8000 - val_loss: 31190178.0000 - val_mae: 3946.8779 - val_mse: 31190166.0000\n",
      "Epoch 45/100\n",
      "4/4 [==============================] - 0s 15ms/step - loss: 57210463.2000 - mae: 5428.5385 - mse: 57210455.2000 - val_loss: 29996700.0000 - val_mae: 4008.0237 - val_mse: 29996688.0000\n",
      "Epoch 46/100\n",
      "4/4 [==============================] - 0s 17ms/step - loss: 70896335.2000 - mae: 5761.7364 - mse: 70896326.4000 - val_loss: 30075298.0000 - val_mae: 4003.9102 - val_mse: 30075286.0000\n",
      "Epoch 47/100\n",
      "4/4 [==============================] - 0s 21ms/step - loss: 51390124.8000 - mae: 5220.0450 - mse: 51390119.2000 - val_loss: 28360132.0000 - val_mae: 4349.4243 - val_mse: 28360124.0000\n",
      "Epoch 48/100\n",
      "4/4 [==============================] - 0s 16ms/step - loss: 59672223.2000 - mae: 5669.6460 - mse: 59672206.4000 - val_loss: 29632678.0000 - val_mae: 4621.3018 - val_mse: 29632664.0000\n",
      "Epoch 49/100\n",
      "4/4 [==============================] - 0s 21ms/step - loss: 57458905.6000 - mae: 5814.9902 - mse: 57458896.8000 - val_loss: 29159890.0000 - val_mae: 4556.8491 - val_mse: 29159876.0000\n",
      "Epoch 50/100\n",
      "4/4 [==============================] - 0s 15ms/step - loss: 51036244.0000 - mae: 5512.1366 - mse: 51036233.6000 - val_loss: 27888224.0000 - val_mae: 4199.3325 - val_mse: 27888216.0000\n",
      "Epoch 51/100\n",
      "4/4 [==============================] - 0s 17ms/step - loss: 54267983.2000 - mae: 5395.5111 - mse: 54267971.2000 - val_loss: 35513904.0000 - val_mae: 5220.6616 - val_mse: 35513892.0000\n",
      "Epoch 52/100\n",
      "4/4 [==============================] - 0s 16ms/step - loss: 42031154.4000 - mae: 4943.8919 - mse: 42031146.4000 - val_loss: 47024116.0000 - val_mae: 4109.0732 - val_mse: 47024108.0000\n",
      "Epoch 53/100\n",
      "4/4 [==============================] - 0s 15ms/step - loss: 52710865.6000 - mae: 4873.5324 - mse: 52710853.6000 - val_loss: 31071962.0000 - val_mae: 4837.5718 - val_mse: 31071954.0000\n",
      "Epoch 54/100\n",
      "4/4 [==============================] - 0s 19ms/step - loss: 65418116.0000 - mae: 6151.5085 - mse: 65418108.0000 - val_loss: 55935420.0000 - val_mae: 4681.1450 - val_mse: 55935412.0000\n",
      "Epoch 55/100\n",
      "4/4 [==============================] - 0s 17ms/step - loss: 58720462.4000 - mae: 4994.2851 - mse: 58720452.0000 - val_loss: 28785932.0000 - val_mae: 3967.4421 - val_mse: 28785920.0000\n",
      "Epoch 56/100\n",
      "4/4 [==============================] - 0s 22ms/step - loss: 56634889.6000 - mae: 5284.5010 - mse: 56634880.0000 - val_loss: 32968544.0000 - val_mae: 3795.5259 - val_mse: 32968532.0000\n",
      "Epoch 57/100\n",
      "4/4 [==============================] - 0s 16ms/step - loss: 66033658.4000 - mae: 5556.9659 - mse: 66033645.6000 - val_loss: 32053498.0000 - val_mae: 3802.4375 - val_mse: 32053486.0000\n",
      "Epoch 58/100\n",
      "4/4 [==============================] - 0s 16ms/step - loss: 53894792.0000 - mae: 5230.6953 - mse: 53894786.4000 - val_loss: 31177478.0000 - val_mae: 4867.1919 - val_mse: 31177468.0000\n",
      "Epoch 59/100\n",
      "4/4 [==============================] - 0s 17ms/step - loss: 60142957.6000 - mae: 5428.4408 - mse: 60142948.8000 - val_loss: 69090296.0000 - val_mae: 7672.1660 - val_mse: 69090280.0000\n",
      "Epoch 60/100\n",
      "4/4 [==============================] - 0s 17ms/step - loss: 76910696.0000 - mae: 7004.8233 - mse: 76910683.2000 - val_loss: 28303722.0000 - val_mae: 3936.0439 - val_mse: 28303710.0000\n",
      "Epoch 61/100\n",
      "4/4 [==============================] - 0s 18ms/step - loss: 57896751.2000 - mae: 5353.5759 - mse: 57896736.8000 - val_loss: 37948812.0000 - val_mae: 3769.0525 - val_mse: 37948800.0000\n",
      "Epoch 62/100\n",
      "4/4 [==============================] - 0s 17ms/step - loss: 74003872.8000 - mae: 5681.2854 - mse: 74003860.8000 - val_loss: 27054666.0000 - val_mae: 4049.8301 - val_mse: 27054654.0000\n",
      "Epoch 63/100\n",
      "4/4 [==============================] - 0s 16ms/step - loss: 56329068.8000 - mae: 5308.1594 - mse: 56329059.2000 - val_loss: 39682824.0000 - val_mae: 3808.3042 - val_mse: 39682808.0000\n",
      "Epoch 64/100\n",
      "4/4 [==============================] - 0s 17ms/step - loss: 52519516.0000 - mae: 5078.6206 - mse: 52519507.2000 - val_loss: 43921116.0000 - val_mae: 3958.1428 - val_mse: 43921104.0000\n",
      "Epoch 65/100\n",
      "4/4 [==============================] - 0s 19ms/step - loss: 65544013.6000 - mae: 5475.5289 - mse: 65544001.6000 - val_loss: 29380574.0000 - val_mae: 3800.6038 - val_mse: 29380564.0000\n",
      "Epoch 66/100\n",
      "4/4 [==============================] - 0s 16ms/step - loss: 50143582.4000 - mae: 5115.7409 - mse: 50143574.4000 - val_loss: 28651180.0000 - val_mae: 3808.4756 - val_mse: 28651170.0000\n",
      "Epoch 67/100\n",
      "4/4 [==============================] - 0s 18ms/step - loss: 61274810.4000 - mae: 5296.4556 - mse: 61274799.2000 - val_loss: 59072832.0000 - val_mae: 4991.3286 - val_mse: 59072816.0000\n",
      "Epoch 68/100\n",
      "4/4 [==============================] - 0s 18ms/step - loss: 74474962.4000 - mae: 5381.4213 - mse: 74474952.8000 - val_loss: 45754776.0000 - val_mae: 4048.3154 - val_mse: 45754768.0000\n",
      "Epoch 69/100\n",
      "4/4 [==============================] - 0s 17ms/step - loss: 57361880.8000 - mae: 4988.9990 - mse: 57361868.8000 - val_loss: 33864268.0000 - val_mae: 3661.8376 - val_mse: 33864256.0000\n",
      "Epoch 70/100\n",
      "4/4 [==============================] - 0s 17ms/step - loss: 67422615.2000 - mae: 5687.1301 - mse: 67422601.6000 - val_loss: 46551992.0000 - val_mae: 4104.6001 - val_mse: 46551984.0000\n",
      "Epoch 71/100\n",
      "4/4 [==============================] - 0s 19ms/step - loss: 69317696.0000 - mae: 5410.5291 - mse: 69317688.8000 - val_loss: 48621944.0000 - val_mae: 4244.7983 - val_mse: 48621936.0000\n",
      "Epoch 72/100\n",
      "4/4 [==============================] - 0s 18ms/step - loss: 46192895.2000 - mae: 4675.5478 - mse: 46192887.2000 - val_loss: 58107684.0000 - val_mae: 4950.5435 - val_mse: 58107672.0000\n",
      "Epoch 73/100\n",
      "4/4 [==============================] - 0s 19ms/step - loss: 61271250.4000 - mae: 4762.1694 - mse: 61271240.8000 - val_loss: 27217140.0000 - val_mae: 3791.7271 - val_mse: 27217128.0000\n",
      "Epoch 74/100\n",
      "4/4 [==============================] - 0s 21ms/step - loss: 42329606.4000 - mae: 4877.6679 - mse: 42329594.4000 - val_loss: 47685184.0000 - val_mae: 4194.8950 - val_mse: 47685168.0000\n",
      "Epoch 75/100\n",
      "4/4 [==============================] - 0s 18ms/step - loss: 62823489.6000 - mae: 5622.1373 - mse: 62823480.8000 - val_loss: 25095998.0000 - val_mae: 4089.5413 - val_mse: 25095988.0000\n",
      "Epoch 76/100\n",
      "4/4 [==============================] - 0s 17ms/step - loss: 55201298.4000 - mae: 5404.2871 - mse: 55201286.4000 - val_loss: 26563740.0000 - val_mae: 3754.6426 - val_mse: 26563730.0000\n",
      "Epoch 77/100\n",
      "4/4 [==============================] - 0s 18ms/step - loss: 42370876.8000 - mae: 4799.0925 - mse: 42370865.6000 - val_loss: 52269984.0000 - val_mae: 4555.7446 - val_mse: 52269972.0000\n",
      "Epoch 78/100\n",
      "4/4 [==============================] - 0s 22ms/step - loss: 44241863.2000 - mae: 4453.9166 - mse: 44241852.0000 - val_loss: 46600548.0000 - val_mae: 6101.7944 - val_mse: 46600540.0000\n",
      "Epoch 79/100\n",
      "4/4 [==============================] - 0s 18ms/step - loss: 75649631.2000 - mae: 6699.5897 - mse: 75649617.6000 - val_loss: 28486868.0000 - val_mae: 4693.0361 - val_mse: 28486858.0000\n",
      "Epoch 80/100\n",
      "4/4 [==============================] - 0s 19ms/step - loss: 66084220.8000 - mae: 6205.4655 - mse: 66084208.8000 - val_loss: 24404648.0000 - val_mae: 3859.8110 - val_mse: 24404636.0000\n",
      "Epoch 81/100\n",
      "4/4 [==============================] - 0s 18ms/step - loss: 58205446.4000 - mae: 5931.1555 - mse: 58205436.8000 - val_loss: 38366144.0000 - val_mae: 3678.9268 - val_mse: 38366132.0000\n",
      "Epoch 82/100\n",
      "4/4 [==============================] - 0s 20ms/step - loss: 59831095.2000 - mae: 4803.9207 - mse: 59831084.8000 - val_loss: 24277664.0000 - val_mae: 3774.7134 - val_mse: 24277656.0000\n",
      "Epoch 83/100\n",
      "4/4 [==============================] - 0s 21ms/step - loss: 45426386.8000 - mae: 4813.8979 - mse: 45426376.0000 - val_loss: 29341684.0000 - val_mae: 3471.7988 - val_mse: 29341672.0000\n",
      "Epoch 84/100\n",
      "4/4 [==============================] - 0s 18ms/step - loss: 48085228.0000 - mae: 4713.7645 - mse: 48085222.4000 - val_loss: 31823890.0000 - val_mae: 3465.9089 - val_mse: 31823882.0000\n",
      "Epoch 85/100\n",
      "4/4 [==============================] - 0s 18ms/step - loss: 55805360.8000 - mae: 4588.4434 - mse: 55805353.6000 - val_loss: 25153674.0000 - val_mae: 3622.1924 - val_mse: 25153664.0000\n",
      "Epoch 86/100\n",
      "4/4 [==============================] - 0s 19ms/step - loss: 47294168.8000 - mae: 4802.3938 - mse: 47294159.6000 - val_loss: 24332364.0000 - val_mae: 3662.7385 - val_mse: 24332356.0000\n",
      "Epoch 87/100\n",
      "4/4 [==============================] - 0s 20ms/step - loss: 35924776.4000 - mae: 4097.8512 - mse: 35924764.0000 - val_loss: 53788260.0000 - val_mae: 6649.8979 - val_mse: 53788248.0000\n",
      "Epoch 88/100\n",
      "4/4 [==============================] - 0s 20ms/step - loss: 69898860.8000 - mae: 6261.9265 - mse: 69898846.4000 - val_loss: 25631838.0000 - val_mae: 4429.4131 - val_mse: 25631828.0000\n",
      "Epoch 89/100\n",
      "4/4 [==============================] - 0s 19ms/step - loss: 60525845.6000 - mae: 5948.6670 - mse: 60525835.2000 - val_loss: 22913470.0000 - val_mae: 3897.0762 - val_mse: 22913462.0000\n",
      "Epoch 90/100\n",
      "4/4 [==============================] - 0s 20ms/step - loss: 43119648.0000 - mae: 4790.6646 - mse: 43119640.0000 - val_loss: 24656310.0000 - val_mae: 3548.6311 - val_mse: 24656302.0000\n",
      "Epoch 91/100\n",
      "4/4 [==============================] - 0s 20ms/step - loss: 54119570.4000 - mae: 5262.8075 - mse: 54119558.4000 - val_loss: 23448558.0000 - val_mae: 3599.9431 - val_mse: 23448548.0000\n",
      "Epoch 92/100\n",
      "4/4 [==============================] - 0s 19ms/step - loss: 41394456.8000 - mae: 4564.6645 - mse: 41394448.8000 - val_loss: 38615900.0000 - val_mae: 3698.0864 - val_mse: 38615888.0000\n",
      "Epoch 93/100\n",
      "4/4 [==============================] - 0s 23ms/step - loss: 39673505.2000 - mae: 4126.3238 - mse: 39673497.2000 - val_loss: 43398400.0000 - val_mae: 4029.6243 - val_mse: 43398392.0000\n",
      "Epoch 94/100\n",
      "4/4 [==============================] - 0s 19ms/step - loss: 42214285.6000 - mae: 4617.1447 - mse: 42214280.0000 - val_loss: 28807630.0000 - val_mae: 3320.9124 - val_mse: 28807620.0000\n",
      "Epoch 95/100\n",
      "4/4 [==============================] - 0s 20ms/step - loss: 54785422.4000 - mae: 5190.4998 - mse: 54785415.2000 - val_loss: 21861640.0000 - val_mae: 3774.3887 - val_mse: 21861630.0000\n",
      "Epoch 96/100\n",
      "4/4 [==============================] - 0s 19ms/step - loss: 49200211.2000 - mae: 5318.1090 - mse: 49200200.8000 - val_loss: 57576496.0000 - val_mae: 5210.0337 - val_mse: 57576492.0000\n",
      "Epoch 97/100\n",
      "4/4 [==============================] - 0s 21ms/step - loss: 50385736.0000 - mae: 4587.8524 - mse: 50385724.0000 - val_loss: 21445266.0000 - val_mae: 3544.8582 - val_mse: 21445258.0000\n",
      "Epoch 98/100\n",
      "4/4 [==============================] - 0s 20ms/step - loss: 48779528.8000 - mae: 4621.3523 - mse: 48779520.0000 - val_loss: 37556188.0000 - val_mae: 5399.5210 - val_mse: 37556180.0000\n",
      "Epoch 99/100\n",
      "4/4 [==============================] - 0s 21ms/step - loss: 58026910.4000 - mae: 5815.3772 - mse: 58026900.0000 - val_loss: 27697998.0000 - val_mae: 3211.4397 - val_mse: 27697988.0000\n",
      "Epoch 100/100\n",
      "4/4 [==============================] - 0s 21ms/step - loss: 37617700.0000 - mae: 3858.0759 - mse: 37617692.0000 - val_loss: 21994038.0000 - val_mae: 3316.0342 - val_mse: 21994028.0000\n"
     ]
    }
   ],
   "source": [
    "history=model.fit(x_train,y_train,epochs=100,validation_data=(x_val, y_val))"
   ]
  },
  {
   "cell_type": "code",
   "execution_count": 9,
   "metadata": {
    "colab": {
     "base_uri": "https://localhost:8080/"
    },
    "id": "Qag0owfvUKaR",
    "outputId": "9189c1e6-a90c-42c5-f8d1-50800bf355f8"
   },
   "outputs": [
    {
     "name": "stdout",
     "output_type": "stream",
     "text": [
      "4/4 [==============================] - 0s 2ms/step - loss: 31084134.0000 - mae: 3622.4829 - mse: 31084130.0000\n",
      "mae: 3622.48%\n",
      "2/2 [==============================] - 0s 4ms/step - loss: 9533651.0000 - mae: 2453.5317 - mse: 9533640.0000\n",
      "mae: 2453.53%\n"
     ]
    }
   ],
   "source": [
    "scores = model.evaluate(x_train, y_train)\n",
    "print(\"%s: %.2f%%\" % (model.metrics_names[1], scores[1]))\n",
    "scores = model.evaluate(x_test, y_test)\n",
    "print(\"%s: %.2f%%\" % (model.metrics_names[1], scores[1]))"
   ]
  },
  {
   "cell_type": "code",
   "execution_count": 10,
   "metadata": {
    "colab": {
     "base_uri": "https://localhost:8080/"
    },
    "id": "YLgwpjkZTC8h",
    "outputId": "34761153-9274-4363-87b2-d59f9d317feb"
   },
   "outputs": [
    {
     "data": {
      "text/plain": [
       "array([[13766.189 ],\n",
       "       [ 8400.636 ],\n",
       "       [17990.852 ],\n",
       "       [ 8882.876 ],\n",
       "       [15739.063 ],\n",
       "       [11673.154 ],\n",
       "       [ 8669.427 ],\n",
       "       [13380.753 ],\n",
       "       [16026.362 ],\n",
       "       [15028.061 ],\n",
       "       [11364.693 ],\n",
       "       [ 8991.3   ],\n",
       "       [19636.076 ],\n",
       "       [11122.561 ],\n",
       "       [17769.123 ],\n",
       "       [10921.59  ],\n",
       "       [23810.61  ],\n",
       "       [ 9771.27  ],\n",
       "       [22377.098 ],\n",
       "       [12393.127 ],\n",
       "       [ 8930.042 ],\n",
       "       [ 8203.649 ],\n",
       "       [10300.975 ],\n",
       "       [17457.33  ],\n",
       "       [ 8157.051 ],\n",
       "       [ 8956.185 ],\n",
       "       [ 7416.3154],\n",
       "       [ 8419.596 ],\n",
       "       [20937.314 ],\n",
       "       [11939.152 ],\n",
       "       [ 8606.9795],\n",
       "       [ 8904.682 ],\n",
       "       [10393.844 ],\n",
       "       [10477.774 ],\n",
       "       [11360.606 ],\n",
       "       [13511.534 ],\n",
       "       [ 8346.587 ],\n",
       "       [ 9955.923 ],\n",
       "       [ 8669.427 ],\n",
       "       [13676.851 ],\n",
       "       [12720.585 ],\n",
       "       [ 8566.215 ],\n",
       "       [15261.161 ],\n",
       "       [ 8745.9375],\n",
       "       [ 9773.482 ],\n",
       "       [13511.534 ],\n",
       "       [15567.577 ],\n",
       "       [16793.639 ],\n",
       "       [13590.507 ],\n",
       "       [11130.166 ],\n",
       "       [12839.123 ],\n",
       "       [ 8203.649 ],\n",
       "       [16822.684 ],\n",
       "       [19339.865 ],\n",
       "       [12208.524 ],\n",
       "       [13528.638 ],\n",
       "       [10128.918 ],\n",
       "       [22998.02  ],\n",
       "       [15255.636 ],\n",
       "       [11585.833 ],\n",
       "       [ 8562.423 ],\n",
       "       [17958.049 ],\n",
       "       [15870.347 ],\n",
       "       [14943.839 ],\n",
       "       [11446.41  ],\n",
       "       [ 7727.6797],\n",
       "       [ 9153.022 ],\n",
       "       [12652.617 ],\n",
       "       [21904.803 ],\n",
       "       [12393.03  ],\n",
       "       [15130.774 ],\n",
       "       [24606.135 ],\n",
       "       [ 8860.976 ],\n",
       "       [27626.883 ],\n",
       "       [17212.732 ],\n",
       "       [ 9892.367 ],\n",
       "       [12252.407 ],\n",
       "       [11467.971 ],\n",
       "       [10759.179 ],\n",
       "       [20449.67  ],\n",
       "       [ 8951.651 ],\n",
       "       [12174.939 ],\n",
       "       [20430.281 ],\n",
       "       [11243.798 ],\n",
       "       [19328.893 ],\n",
       "       [12168.372 ],\n",
       "       [ 8416.939 ],\n",
       "       [17439.459 ],\n",
       "       [ 8620.555 ],\n",
       "       [14779.399 ],\n",
       "       [ 8389.138 ],\n",
       "       [ 8954.116 ],\n",
       "       [11659.528 ],\n",
       "       [ 8279.406 ],\n",
       "       [11349.934 ],\n",
       "       [11588.125 ],\n",
       "       [15346.545 ],\n",
       "       [10986.771 ],\n",
       "       [17990.852 ],\n",
       "       [17886.322 ],\n",
       "       [10477.774 ],\n",
       "       [10834.899 ]], dtype=float32)"
      ]
     },
     "execution_count": 10,
     "metadata": {},
     "output_type": "execute_result"
    }
   ],
   "source": [
    "model.predict(x_train)"
   ]
  }
 ],
 "metadata": {
  "colab": {
   "collapsed_sections": [],
   "name": "Car Price Prediction assignment.ipynb",
   "provenance": []
  },
  "kernelspec": {
   "display_name": "Python 3",
   "language": "python",
   "name": "python3"
  },
  "language_info": {
   "codemirror_mode": {
    "name": "ipython",
    "version": 3
   },
   "file_extension": ".py",
   "mimetype": "text/x-python",
   "name": "python",
   "nbconvert_exporter": "python",
   "pygments_lexer": "ipython3",
   "version": "3.8.8"
  }
 },
 "nbformat": 4,
 "nbformat_minor": 4
}
